{
 "cells": [
  {
   "cell_type": "code",
   "execution_count": 1,
   "id": "b965633e-a9ae-4947-afb4-2e1cf01a7c07",
   "metadata": {},
   "outputs": [
    {
     "name": "stdout",
     "output_type": "stream",
     "text": [
      "Hello Alice\n",
      "Good morning Bob\n"
     ]
    }
   ],
   "source": [
    "#1: BASIC FUNCTION IMPLEMENTATION Write a function greet that takes two arguments: name (a string) and greeting (a string with a default value of \"Hello\"). The function should return a greeting message\n",
    "\n",
    "#creating a function as greet\n",
    "def greet(name,greeting = \"Hello\"): #variable greeting have a default value \"Hello\"\n",
    "    print(f\"{greeting} {name}\") #using string formatting\n",
    "    \n",
    "greet(\"Alice\")\n",
    "greet(\"Bob\",\"Good morning\")"
   ]
  },
  {
   "cell_type": "code",
   "execution_count": 2,
   "id": "062bd047-0a6d-44ef-a054-cc17a3299339",
   "metadata": {},
   "outputs": [
    {
     "name": "stdout",
     "output_type": "stream",
     "text": [
      "Name: John, Age: 18, City: Chicago\n",
      "Name: Emma, Age: 22, City: Los Angeles\n"
     ]
    }
   ],
   "source": [
    "#2:NAMED ARGUEMENT Create a function create_profile that takes arguments for name, age, and city as named arguments. The function should return a string like \"Name: Alice, Age: 25, City: New York\". Ensure that the age argument has a default value of 18.\n",
    "\n",
    "#creating a function name as create_profile\n",
    "def create_profile(name , city, age = 18): #age variable stores a default value 18\n",
    "    print(f\"Name: {name}, Age: {age}, City: {city}\" )\n",
    "    \n",
    "create_profile(name =\"John\", city = \"Chicago\")\n",
    "create_profile(name=\"Emma\", age=22, city=\"Los Angeles\")"
   ]
  },
  {
   "cell_type": "code",
   "execution_count": 3,
   "id": "d082fadf-915d-4105-ad4f-1e7bdaa50dc2",
   "metadata": {},
   "outputs": [
    {
     "name": "stdout",
     "output_type": "stream",
     "text": [
      "6\n",
      "(3, {'x': 4, 'y': 5})\n"
     ]
    }
   ],
   "source": [
    "#3:Using args and kwargs Write a function sum_numbers that takes any number of positional arguments (args) and keyword arguments *(kwargs).* It should: Return the sum of all* args if they are numbers. Return a dictionary of all keyword arguments.*\n",
    "\n",
    "#creating a function \"sum_numbers\"\n",
    "def sum_numbers(*args, **kwargs):\n",
    "    # Filter and sum positional arguments that are numbers\n",
    "    totalSum = sum(arg for arg in args if isinstance(arg, (int, float)))\n",
    "    \n",
    "    # Return only the sum if no keyword arguments are passed\n",
    "    if not kwargs:\n",
    "        return totalSum\n",
    "    \n",
    "    # Return the sum and the dictionary of keyword arguments if any\n",
    "    return totalSum, kwargs\n",
    "\n",
    "print(sum_numbers(1, 2, 3))             \n",
    "print(sum_numbers(1, 2, x=4, y=5))"
   ]
  },
  {
   "cell_type": "code",
   "execution_count": 4,
   "id": "d863d409-3fa9-4c75-87a8-7cbb966669fa",
   "metadata": {},
   "outputs": [
    {
     "data": {
      "text/plain": [
       "[1, 4, 9, 16]"
      ]
     },
     "execution_count": 4,
     "metadata": {},
     "output_type": "execute_result"
    }
   ],
   "source": [
    "#4:  LAMBDAS AND MAP: Write a function that uses map and a lambda to return a list where each element is squared.\n",
    "\n",
    "def square_list(numbers):\n",
    "    squares= map(lambda x: x**2, numbers) #squaring the numbers present in the list\n",
    "    return list(squares) #returning the squares of the number where the function was called\n",
    "\n",
    "square_list([1, 2, 3, 4])"
   ]
  },
  {
   "cell_type": "code",
   "execution_count": 5,
   "id": "9af06f04-d17a-4f73-bab8-91bd07eb6072",
   "metadata": {},
   "outputs": [
    {
     "data": {
      "text/plain": [
       "[2, 4]"
      ]
     },
     "execution_count": 5,
     "metadata": {},
     "output_type": "execute_result"
    }
   ],
   "source": [
    "#5: FILTER AND LAMBDAS: Write a function that filters out all odd numbers from a list using filter and a lambda function.\n",
    "\n",
    "#creating a function that takes list as an arguement\n",
    "def filter_odd_numbers(numbers):\n",
    "    odd_numbers = filter(lambda x: x%2 == 0, numbers) #checking whether the number in numbers are divisible by 2\n",
    "    return list(odd_numbers)\n",
    "\n",
    "filter_odd_numbers([1,2,3,4,5])"
   ]
  },
  {
   "cell_type": "code",
   "execution_count": 6,
   "id": "9082b1ac-0390-440e-9c71-24ff8db903ff",
   "metadata": {},
   "outputs": [
    {
     "name": "stdout",
     "output_type": "stream",
     "text": [
      "[0, 1, 4, 9, 16]\n"
     ]
    }
   ],
   "source": [
    "#6 : BASIC LIST COMPREHENSION: Create a list comprehension that takes a list of numbers and returns a list of their squares.\n",
    "\n",
    "squares = [x**2 for x in range(5)]\n",
    "print(squares)"
   ]
  },
  {
   "cell_type": "code",
   "execution_count": 7,
   "id": "ace2a695-bc0e-4fe0-b3c4-5013bbc14c4c",
   "metadata": {},
   "outputs": [
    {
     "name": "stdout",
     "output_type": "stream",
     "text": [
      "[2, 4, 6, 8, 10, 12, 14, 16, 18, 20]\n"
     ]
    }
   ],
   "source": [
    "#7: LIST COMPREHENSION WITH CONDITION: Use a list comprehension to create a list of even numbers from 1 to 20.\n",
    "\n",
    "evenNumbers = [x for x in range(1,21) if x%2 == 0]\n",
    "print(list(evenNumbers))"
   ]
  },
  {
   "cell_type": "code",
   "execution_count": 8,
   "id": "84550363-13ad-44bd-a6fb-f2f5319af6ec",
   "metadata": {},
   "outputs": [],
   "source": [
    "#8: USING OS AND TIME MODULES: Write a function file_operations that creates a directory named \"test_folder\" using os.makedirs(). Then, pause the execution for 3 seconds using time.sleep(), and finally, delete the directory using os.rmdir()\n",
    "\n",
    "#importing time and os modules\n",
    "import os\n",
    "import time\n",
    "\n",
    "#creating non parametrized function, file_operations\n",
    "def file_operations():\n",
    "    \n",
    "    #creating a new directory\n",
    "    os.makedirs(\"test_folder\") #cretaed a directory named as test_folder\n",
    "    \n",
    "    time.sleep(3) #using sleep function from time module to stop the execution for 3 sec\n",
    "    \n",
    "    #removing a directory\n",
    "    os.rmdir(\"test_folder\")\n",
    "    \n",
    "file_operations()"
   ]
  },
  {
   "cell_type": "code",
   "execution_count": 9,
   "id": "792147e9-5323-45ad-8ed5-eb1267545b40",
   "metadata": {},
   "outputs": [
    {
     "name": "stdout",
     "output_type": "stream",
     "text": [
      "Paused execution...\n"
     ]
    }
   ],
   "source": [
    "#9: IMPORTING SPECIFIC FUNCTIONS: Write a Python script that imports only sleep from the time module and renames it to pause. Use it to pause execution for 2 seconds and print \"Paused execution...\"\n",
    "\n",
    "#importing the function, sleep from time module and rename as pause\n",
    "from time import sleep as pause \n",
    "pause(2) #pauses the execution for 2 sec\n",
    "print(\"Paused execution...\")"
   ]
  },
  {
   "cell_type": "code",
   "execution_count": 10,
   "id": "b99a74d1-d750-4ca6-9916-cde5fd9f3ba6",
   "metadata": {},
   "outputs": [
    {
     "name": "stdout",
     "output_type": "stream",
     "text": [
      "[1, 2, 3, 4, 5, 6]\n",
      "[1, 2, 3, 4, 5]\n"
     ]
    }
   ],
   "source": [
    "#10: RECURSIVE FUNCTION WITH *ARGS and KWARGS (Flattening a List): Write a recursive function flatten_list that can flatten a nested list of any depth using *args and **kwargs\n",
    "\n",
    "#creating a function that converts nested list into simple list\n",
    "def flatten_list(*args, **kwargs):\n",
    "    #uses *args to handle any number of arguments\n",
    "    flatten = []#creating an empty list\n",
    "    \n",
    "    for item in args:\n",
    "        if isinstance(item, list): #cheking whether each element is a list or a simple number\n",
    "            flatten.extend(flatten_list(*item, *kwargs))\n",
    "            \n",
    "        else:\n",
    "            flatten.append(item) #directly adding the element in the list if its not a list\n",
    "            \n",
    "    return flatten\n",
    "\n",
    "print(flatten_list([1, [2, 3], [[4, 5], 6]]))\n",
    "print(flatten_list([[1, 2], [3, [4, [5]]]]))"
   ]
  },
  {
   "cell_type": "code",
   "execution_count": null,
   "id": "37634bb2-382c-46b3-a6fb-a1b3d1d93c21",
   "metadata": {},
   "outputs": [],
   "source": []
  }
 ],
 "metadata": {
  "kernelspec": {
   "display_name": "Python 3 (ipykernel)",
   "language": "python",
   "name": "python3"
  },
  "language_info": {
   "codemirror_mode": {
    "name": "ipython",
    "version": 3
   },
   "file_extension": ".py",
   "mimetype": "text/x-python",
   "name": "python",
   "nbconvert_exporter": "python",
   "pygments_lexer": "ipython3",
   "version": "3.12.5"
  }
 },
 "nbformat": 4,
 "nbformat_minor": 5
}
